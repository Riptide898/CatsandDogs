{
  "nbformat": 4,
  "nbformat_minor": 0,
  "metadata": {
    "colab": {
      "name": "Wine.ipynb",
      "version": "0.3.2",
      "provenance": [],
      "collapsed_sections": [],
      "include_colab_link": true
    },
    "kernelspec": {
      "name": "python3",
      "display_name": "Python 3"
    }
  },
  "cells": [
    {
      "cell_type": "markdown",
      "metadata": {
        "id": "view-in-github",
        "colab_type": "text"
      },
      "source": [
        "<a href=\"https://colab.research.google.com/github/Riptide898/CatsandDogs/blob/master/Wine.ipynb\" target=\"_parent\"><img src=\"https://colab.research.google.com/assets/colab-badge.svg\" alt=\"Open In Colab\"/></a>"
      ]
    },
    {
      "metadata": {
        "id": "fmY8YWklzi8J",
        "colab_type": "code",
        "colab": {}
      },
      "cell_type": "code",
      "source": [
        "import numpy as np\n",
        "import pandas as pd\n",
        "import seaborn as sns\n",
        "\n",
        "%matplotlib inline\n",
        "import matplotlib.pyplot as plt\n",
        "\n",
        "from sklearn.ensemble import RandomForestClassifier\n",
        "from sklearn.preprocessing import StandardScaler, LabelEncoder\n",
        "from sklearn.model_selection import train_test_split\n",
        "from sklearn.metrics import confusion_matrix, classification_report"
      ],
      "execution_count": 0,
      "outputs": []
    },
    {
      "metadata": {
        "id": "mDJ041z-0s_Y",
        "colab_type": "code",
        "colab": {}
      },
      "cell_type": "code",
      "source": [
        "# The algorithm translated into Python code might look like this. Then we just need to implement each of the functions.\n",
        "def k_means(data, k, max_iterations):\n",
        "    centres = get_initial_centres(data, k)\n",
        "    \n",
        "    for i in range(0, max_iterations):\n",
        "        cluster_assignment = assign_clusters(data, centres) # will pass back array of the clusters for each datapoint\n",
        "        new_centres = revise_centres(data, cluster_assignment, k) # returns 3 new centres \n",
        "        if np.array_equal(new_centres, centres): # check if the centres are equal if they are break out \n",
        "            break\n",
        "        centres = new_centres # new centres is assigned to centres variable\n",
        "    return cluster_assignment"
      ],
      "execution_count": 0,
      "outputs": []
    },
    {
      "metadata": {
        "id": "UzjFbabR0woj",
        "colab_type": "code",
        "colab": {}
      },
      "cell_type": "code",
      "source": [
        "# Should take the data and number of clusters (k) as input, return k random values from the data\n",
        "def get_initial_centres(data, k):\n",
        "    data_points = data.copy() # need a copy because we want to isolated the shuffling to inside the function\n",
        "    np.random.shuffle(data_points) # shuffle the points to create the random data centres\n",
        "    return data_points[:k]"
      ],
      "execution_count": 0,
      "outputs": []
    },
    {
      "metadata": {
        "id": "u6bZkE7K0zhK",
        "colab_type": "code",
        "colab": {}
      },
      "cell_type": "code",
      "source": [
        "from scipy.spatial import distance # cluster assignment\n",
        "\n",
        "# Should take the data and the k centres and return an np array with a cluster assignment for each data point\n",
        "def assign_clusters(data, centres):\n",
        "    num_data_points = data.shape[0] # there are 1599 rows and 2 columns and the [0] just assigns the number to 150 \n",
        "\n",
        "    cluster_assignment = np.zeros(shape=(num_data_points, 1)) # creates an 1D array with 150 zeros; cannot append np array\n",
        "\n",
        "    for i in range(0, num_data_points):\n",
        "        distances = [] # recording the distances between the current data point and the centres\n",
        "        for j in range(0, centres.shape[0]):\n",
        "            distances.append(distance.sqeuclidean(data[i], centres[j]))\n",
        "        cluster_assignment[i] = distances.index(min(distances)) # using min will give us the smallest value of the \n",
        "    # distance list and gives the index of that list element, value will be 0,1 or 2 an will return that cluster\n",
        "    # assignment array for the data points\n",
        "\n",
        "    return cluster_assignment"
      ],
      "execution_count": 0,
      "outputs": []
    },
    {
      "metadata": {
        "id": "07Wc6j_i1FGE",
        "colab_type": "code",
        "colab": {}
      },
      "cell_type": "code",
      "source": [
        "# Should take the data, cluster assignments and number of clusters and return the point closest to the average for each cluster\n",
        "\n",
        "def revise_centres(data, cluster_assignment, k):\n",
        "    revised_centres = np.zeros(shape=(k, data[0].shape[0])) # initalising revised_centres array to an np array of zeros\n",
        "    print(revised_centres.shape)\n",
        "    # k is the amount of rows in the array and data.shape is the number of columns\n",
        "   # Get the number of data points in each cluster\n",
        "    \n",
        "    centre_labels, num_in_clusters = np.unique(cluster_assignment, return_counts=True)\n",
        "    # shows how many of the data points are in each cluster and assigns them to the two variables; uses tuples\n",
        "    # For each cluster we want to find the average of all the points and find the point closest to that\n",
        "    \n",
        "    for i in range(0, k):\n",
        "        # Initialise an empty np array where we will store all the data points from cluster i\n",
        "      \n",
        "        this_cluster = np.zeros(shape=(num_in_clusters[i], data[0].shape[0]))\n",
        "        # np array uses the number of points in a cluster to create the rows\n",
        "        # We need to keep track of how many data points we have collected for cluster i so far\n",
        "        \n",
        "        data_point_index = 0\n",
        "        for j in range(0, data.shape[0]):\n",
        "            if cluster_assignment[j] == centre_labels[i]:\n",
        "                this_cluster[data_point_index] = data[j]\n",
        "                data_point_index += 1\n",
        "        # Now we have collected all data points for this cluster we can calculate the middle/average position\n",
        "       \n",
        "        average_position = np.mean(this_cluster, axis=0)\n",
        "        # axis = 0 averages each column \n",
        "        # Calculate the closest point from this cluster to the average position\n",
        "        \n",
        "        new_centre = this_cluster[0]\n",
        "        for j in range(0, num_in_clusters[i]):\n",
        "            if distance.sqeuclidean(this_cluster[j], average_position) < distance.sqeuclidean(new_centre, average_position):\n",
        "                new_centre = this_cluster[j]\n",
        "        revised_centres[i] = new_centre\n",
        "       # loops through data points and finds the closest to the new centre and returns the new data centres          \n",
        "    return revised_centres"
      ],
      "execution_count": 0,
      "outputs": []
    },
    {
      "metadata": {
        "id": "jxsfak_L1Kzx",
        "colab_type": "code",
        "colab": {}
      },
      "cell_type": "code",
      "source": [
        "def k_means(data, k, max_iterations):\n",
        "  centres = get_initial_centres(data, k)\n",
        "  \n",
        "  for i in range(0, max_iterations):\n",
        "    cluster_assignment = assign_clusters(data, centres)\n",
        "    new_centres = revise_centres(data, cluster_assignment, k)\n",
        "    if np.array_equal(new_centres, centres):\n",
        "      break\n",
        "    centres = new_centres\n",
        "    \n",
        "  print('Number of iterations: %d' % (i + 1))\n",
        "  return cluster_assignment"
      ],
      "execution_count": 0,
      "outputs": []
    },
    {
      "metadata": {
        "id": "1IcdGa_B1e8M",
        "colab_type": "code",
        "colab": {}
      },
      "cell_type": "code",
      "source": [
        ""
      ],
      "execution_count": 0,
      "outputs": []
    }
  ]
}